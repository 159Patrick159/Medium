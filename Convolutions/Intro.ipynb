{
 "cells": [
  {
   "cell_type": "markdown",
   "metadata": {},
   "source": [
    "## **Definition of convolution**\n",
    "Consider some input time signal $f(t)$, output time signal $g(t)$ and system function $w(t)$ such that\n",
    "\n",
    "\\begin{align*}\n",
    "w[f(t)] = g(t)\n",
    "\\end{align*}\n",
    "\n",
    "We define the convolution of $w(t)$ and $f(t)$ as\n",
    "\n",
    "\\begin{align*}\n",
    "g(t) &= \\int_{-\\infty}^{\\infty} w(\\tau)f(t-\\tau)\\, d\\tau\n",
    "\\end{align*}\n",
    "\n",
    "Or in standard notation\n",
    "\n",
    "\\begin{align*}\n",
    "g(t) = f(t) * g(t)\n",
    "\\end{align*}\n",
    "\n",
    "In the real world all our time series are sampled at some time interval $\\Delta$, such that the discrete time series are given by:\n",
    "\n",
    "\\begin{align*}\n",
    "f_k = f(t_k) = f(k\\Delta), && w_k = w(t_k) = w(k\\Delta)\n",
    "\\end{align*}\n",
    "\n",
    "Such that the discrete convolution is expressed as follows:\n",
    "\n",
    "\\begin{align*}\n",
    "g_n = \\left[\\sum_{k=-\\infty}^\\infty f_{n-k}w_k\\right]\\Delta\n",
    "\\end{align*}"
   ]
  }
 ],
 "metadata": {
  "kernelspec": {
   "display_name": "Python 3",
   "language": "python",
   "name": "python3"
  },
  "language_info": {
   "codemirror_mode": {
    "name": "ipython",
    "version": 3
   },
   "file_extension": ".py",
   "mimetype": "text/x-python",
   "name": "python",
   "nbconvert_exporter": "python",
   "pygments_lexer": "ipython3",
   "version": "3.10.2"
  }
 },
 "nbformat": 4,
 "nbformat_minor": 2
}
